{
 "cells": [
  {
   "attachments": {},
   "cell_type": "markdown",
   "metadata": {},
   "source": [
    "# Module 12 Challenge\n",
    "## Deliverable 1: Scrape Titles and Preview Text from Mars News"
   ]
  },
  {
   "cell_type": "code",
   "execution_count": 1,
   "metadata": {},
   "outputs": [],
   "source": [
    "# Import Splinter and BeautifulSoup\n",
    "from splinter import Browser\n",
    "from bs4 import BeautifulSoup"
   ]
  },
  {
   "cell_type": "code",
   "execution_count": 2,
   "metadata": {
    "scrolled": true
   },
   "outputs": [],
   "source": [
    "browser = Browser('chrome')"
   ]
  },
  {
   "attachments": {},
   "cell_type": "markdown",
   "metadata": {},
   "source": [
    "### Step 1: Visit the Website\n",
    "\n",
    "1. Use automated browsing to visit the [Mars news site](https://static.bc-edx.com/data/web/mars_news/index.html). Inspect the page to identify which elements to scrape.\n",
    "\n",
    "      > **Hint** To identify which elements to scrape, you might want to inspect the page by using Chrome DevTools."
   ]
  },
  {
   "cell_type": "code",
   "execution_count": 3,
   "metadata": {},
   "outputs": [],
   "source": [
    "# Visit the Mars news site\n",
    "\n",
    "\n",
    "# Initialize the browser\n",
    "browser = Browser('chrome')\n",
    "\n",
    "# Visit the Mars news site\n",
    "url = 'https://mars.nasa.gov/news/'\n",
    "browser.visit(url)\n",
    "\n"
   ]
  },
  {
   "attachments": {},
   "cell_type": "markdown",
   "metadata": {},
   "source": [
    "### Step 2: Scrape the Website\n",
    "\n",
    "Create a Beautiful Soup object and use it to extract text elements from the website."
   ]
  },
  {
   "cell_type": "code",
   "execution_count": 4,
   "metadata": {},
   "outputs": [],
   "source": [
    "# Create a Beautiful Soup object\n",
    "soup = BeautifulSoup(browser.html, 'html.parser')\n",
    "\n",
    "\n"
   ]
  },
  {
   "cell_type": "code",
   "execution_count": 5,
   "metadata": {},
   "outputs": [
    {
     "name": "stdout",
     "output_type": "stream",
     "text": [
      "[<div class=\"list_text\"><div class=\"list_date\">August 10, 2023</div><div class=\"content_title\"><a href=\"/news/9460/watch-nasa-engineers-put-a-mars-landers-legs-to-the-test/\" target=\"_self\">Watch NASA Engineers Put a Mars Lander's Legs to the Test</a></div><div class=\"article_teaser_body\">Sturdy legs are needed to absorb the impact of the heaviest spacecraft to ever touch down on the Red Planet.</div></div>, <div class=\"list_text\"><div class=\"list_date\">August  9, 2023</div><div class=\"content_title\"><a href=\"/news/9459/cracks-in-ancient-martian-mud-surprise-nasas-curiosity-rover-team/\" target=\"_self\">Cracks in Ancient Martian Mud Surprise NASA's Curiosity Rover Team</a></div><div class=\"article_teaser_body\">A new paper suggests the same conditions that created the cracks could have been favorable to the emergence of microscopic life.</div></div>, <div class=\"list_text\"><div class=\"list_date\">August  7, 2023</div><div class=\"content_title\"><a href=\"/news/9457/nasas-ingenuity-mars-helicopter-flies-again-after-unscheduled-landing/\" target=\"_self\">NASA's Ingenuity Mars Helicopter Flies Again After Unscheduled Landing</a></div><div class=\"article_teaser_body\">The helicopter performed a short hop to help the team better understand why its previous flight was interrupted.</div></div>, <div class=\"list_text\"><div class=\"list_date\">August  7, 2023</div><div class=\"content_title\"><a href=\"/news/9452/nasa-insight-study-finds-mars-is-spinning-faster/\" target=\"_self\">NASA InSight Study Finds Mars Is Spinning Faster</a></div><div class=\"article_teaser_body\">Data sent by the spacecraft before it retired last December has provided new details about how fast the planet fast rotates and how much it wobbles.</div></div>, <div class=\"list_text\"><div class=\"list_date\">August  3, 2023</div><div class=\"content_title\"><a href=\"/news/9454/nasas-curiosity-rover-faces-its-toughest-climb-yet-on-mars/\" target=\"_self\">NASA's Curiosity Rover Faces Its Toughest Climb Yet on Mars</a></div><div class=\"article_teaser_body\">Shortly before the rover’s 11th anniversary on the Red Planet, its team helped guide it up a steep, slippery slope to examine meteor craters.</div></div>, <div class=\"list_text\"><div class=\"list_date\">July 31, 2023</div><div class=\"content_title\"><a href=\"/news/9448/nasa-mars-ascent-vehicle-continues-progress-toward-mars-sample-return/\" target=\"_self\">NASA Mars Ascent Vehicle Continues Progress Toward Mars Sample Return</a></div><div class=\"article_teaser_body\">The first rocket launch from the surface of another planet will be accomplished using two solid rocket motors.</div></div>, <div class=\"list_text\"><div class=\"list_date\">July 20, 2023</div><div class=\"content_title\"><a href=\"/news/9442/nasas-perseverance-rover-sees-mars-in-a-new-light/\" target=\"_self\">NASA's Perseverance Rover Sees Mars in a New Light</a></div><div class=\"article_teaser_body\">A cutting-edge instrument called SHERLOC, which hunts for molecules potentially related to ancient life, played a key role in a recent study.</div></div>, <div class=\"list_text\"><div class=\"list_date\">July 19, 2023</div><div class=\"content_title\"><a href=\"/news/9441/ancient-river-is-helping-nasas-perseverance-mars-rover-do-its-work/\" target=\"_self\">Ancient River Is Helping NASA's Perseverance Mars Rover Do Its Work</a></div><div class=\"article_teaser_body\">The six-wheeled geologist is getting some assistance in its in search for diverse rock samples that could be brought to Earth for deeper investigation.</div></div>, <div class=\"list_text\"><div class=\"list_date\">June 30, 2023</div><div class=\"content_title\"><a href=\"/news/9430/nasas-ingenuity-mars-helicopter-phones-home/\" target=\"_self\">NASA's Ingenuity Mars Helicopter Phones Home</a></div><div class=\"article_teaser_body\">The intrepid rotorcraft may head skyward again within the week.</div></div>, <div class=\"list_text\"><div class=\"list_date\">June 22, 2023</div><div class=\"content_title\"><a href=\"/news/9423/nasas-maven-spacecraft-stuns-with-ultraviolet-views-of-red-planet/\" target=\"_self\">NASA's MAVEN Spacecraft Stuns with Ultraviolet Views of Red Planet</a></div><div class=\"article_teaser_body\">NASA’s MAVEN (Mars Atmosphere and Volatile EvolutioN) mission acquired stunning views of Mars in two ultraviolet images taken at different points along our neighboring planet’s orbit around the Sun.\n",
      "\n",
      "</div></div>, <div class=\"list_text\"><div class=\"list_date\">June 22, 2023</div><div class=\"content_title\"><a href=\"/news/9421/landing-in-living-rooms-lego-models-of-nasa-mars-rover-and-helicopter/\" target=\"_self\">Landing in Living Rooms: LEGO Models of NASA Mars Rover and Helicopter</a></div><div class=\"article_teaser_body\">A new STEM-themed kit developed in cooperation with NASA-JPL is designed to spark kids’ interest in engineering and space via traditional toys and augmented reality.</div></div>, <div class=\"list_text\"><div class=\"list_date\">June 13, 2023</div><div class=\"content_title\"><a href=\"/news/9415/nasas-curiosity-captures-martian-morning-afternoon-in-new-postcard/\" target=\"_self\">NASA's Curiosity Captures Martian Morning, Afternoon in New 'Postcard'</a></div><div class=\"article_teaser_body\">Lighting from two times of day was combined for a stunning view of terrain that the rover is leaving behind.</div></div>, <div class=\"list_text\"><div class=\"list_date\">June  8, 2023</div><div class=\"content_title\"><a href=\"/news/9413/why-and-how-nasa-gives-a-name-to-every-spot-it-studies-on-mars/\" target=\"_self\">Why – and How – NASA Gives a Name to Every Spot It Studies on Mars</a></div><div class=\"article_teaser_body\">Martian maps are full of monikers recognizing places on Earth, explorers, and even cartoon characters. </div></div>, <div class=\"list_text\"><div class=\"list_date\">May 18, 2023</div><div class=\"content_title\"><a href=\"/news/9405/nasas-perseverance-rover-captures-view-of-mars-belva-crater/\" target=\"_self\">NASA's Perseverance Rover Captures View of Mars' Belva Crater</a></div><div class=\"article_teaser_body\">The six-wheeled scientist encountered the crater during its latest science campaign in search of rock samples that could be brought to Earth for deeper investigation.</div></div>, <div class=\"list_text\"><div class=\"list_date\">May 11, 2023</div><div class=\"content_title\"><a href=\"/news/9399/images-from-nasas-perseverance-may-show-record-of-wild-martian-river/\" target=\"_self\">Images From NASA's Perseverance May Show Record of Wild Martian River</a></div><div class=\"article_teaser_body\">Evidence left in rocks is leading scientists to rethink what watery environments looked like on ancient Mars.</div></div>, <div class=\"list_text\"><div class=\"list_date\">April 25, 2023</div><div class=\"content_title\"><a href=\"/news/9390/nasa-retires-mineral-mapping-instrument-on-mars-orbiter/\" target=\"_self\">NASA Retires Mineral Mapping Instrument on Mars Orbiter</a></div><div class=\"article_teaser_body\">One of six instruments aboard the agency’s Mars Reconnaissance Orbiter, CRISM produced global maps of minerals on the Red Planet’s surface.</div></div>, <div class=\"list_text\"><div class=\"list_date\">April 24, 2023</div><div class=\"content_title\"><a href=\"/news/9387/nasa-insight-study-provides-clearest-look-ever-at-martian-core/\" target=\"_self\">NASA InSight Study Provides Clearest Look Ever at Martian Core</a></div><div class=\"article_teaser_body\">A pair of quakes in 2021 sent seismic waves deep into the Red Planet’s core, giving scientists the best data yet on its size and composition. </div></div>, <div class=\"list_text\"><div class=\"list_date\">April 18, 2023</div><div class=\"content_title\"><a href=\"/news/9384/nasa-selects-10-scientists-for-international-mission-to-martian-moons/\" target=\"_self\">NASA Selects 10 Scientists for International Mission to Martian Moons </a></div><div class=\"article_teaser_body\">JPL’s Abigail Fraeman will help study the composition of Phobos and Deimos using instruments on the Japan Aerospace Exploration Agency’s spacecraft.\n",
      "\n",
      "</div></div>, <div class=\"list_text\"><div class=\"list_date\">April 13, 2023</div><div class=\"content_title\"><a href=\"/news/9381/nasas-ingenuity-mars-helicopter-completes-50th-flight/\" target=\"_self\">NASA's Ingenuity Mars Helicopter Completes 50th Flight</a></div><div class=\"article_teaser_body\">The history-making rotorcraft has recently been negotiating some of the most hazardous terrain it’s encountered on the Red Planet. </div></div>, <div class=\"list_text\"><div class=\"list_date\">April 13, 2023</div><div class=\"content_title\"><a href=\"/news/9378/nasas-curiosity-mars-rover-gets-a-major-software-upgrade/\" target=\"_self\">NASA's Curiosity Mars Rover Gets a Major Software Upgrade</a></div><div class=\"article_teaser_body\">The update brings loads of improvements, the most significant being new driving capabilities.\n",
      "</div></div>, <div class=\"list_text\"><div class=\"list_date\">April 13, 2023</div><div class=\"content_title\"><a href=\"/news/9377/nasa-to-convene-mars-sample-return-review/\" target=\"_self\">NASA to Convene Mars Sample Return Review</a></div><div class=\"article_teaser_body\">The board, initiated by NASA, will provide added confidence that the program won’t exceed guidelines following an important upcoming milestone. </div></div>, <div class=\"list_text\"><div class=\"list_date\">April  5, 2023</div><div class=\"content_title\"><a href=\"/news/9375/new-interactive-mosaic-uses-nasa-imagery-to-show-mars-in-vivid-detail/\" target=\"_self\">New Interactive Mosaic Uses NASA Imagery to Show Mars in Vivid Detail</a></div><div class=\"article_teaser_body\">Both scientists and the public can navigate a new global image of the Red Planet that was made at Caltech using data from NASA’s Mars Reconnaissance Orbiter.</div></div>, <div class=\"list_text\"><div class=\"list_date\">March 31, 2023</div><div class=\"content_title\"><a href=\"/news/9373/nasas-perseverance-collects-first-mars-sample-of-new-science-campaign/\" target=\"_self\">NASA's Perseverance Collects First Mars Sample of New Science Campaign</a></div><div class=\"article_teaser_body\">The rover continues its hunt for rocks worthy of bringing to Earth for further study.</div></div>, <div class=\"list_text\"><div class=\"list_date\">March 15, 2023</div><div class=\"content_title\"><a href=\"/news/9365/engineers-keep-an-eye-on-fuel-supply-of-nasas-oldest-mars-orbiter/\" target=\"_self\">Engineers Keep an Eye on Fuel Supply of NASA's Oldest Mars Orbiter</a></div><div class=\"article_teaser_body\">Measuring the fuel supply on a decades-old spacecraft without a fuel gauge is no easy task. </div></div>, <div class=\"list_text\"><div class=\"list_date\">March  6, 2023</div><div class=\"content_title\"><a href=\"/news/9358/nasas-curiosity-views-first-sun-rays-on-mars/\" target=\"_self\">NASA's Curiosity Views First 'Sun Rays' on Mars</a></div><div class=\"article_teaser_body\">The veteran rover captured a dazzling sunset at the start of a new cloud-imaging campaign.</div></div>, <div class=\"list_text\"><div class=\"list_date\">February 17, 2023</div><div class=\"content_title\"><a href=\"/news/9349/nasas-perseverance-rover-set-to-begin-third-year-at-jezero-crater/\" target=\"_self\">NASA's Perseverance Rover Set to Begin Third Year at Jezero Crater</a></div><div class=\"article_teaser_body\">After completing the first sample depot on another world, the rover continues its hunt for Mars rocks worthy of study on Earth.</div></div>, <div class=\"list_text\"><div class=\"list_date\">February 14, 2023</div><div class=\"content_title\"><a href=\"/news/9348/nasas-perseverance-rover-shows-off-collection-of-mars-samples/\" target=\"_self\">NASA's Perseverance Rover Shows Off Collection of Mars Samples</a></div><div class=\"article_teaser_body\">The Red Planet rover snapped a portrait of the sample depot it has assembled with 10 backup sample tubes that could be returned to Earth by a future mission.</div></div>, <div class=\"list_text\"><div class=\"list_date\">February  8, 2023</div><div class=\"content_title\"><a href=\"/news/9344/nasas-curiosity-finds-surprise-clues-to-mars-watery-past/\" target=\"_self\">NASA's Curiosity Finds Surprise Clues to Mars' Watery Past</a></div><div class=\"article_teaser_body\">Among other discoveries made by the rover, rippled rock textures suggest lakes existed in a region of ancient Mars that scientists expected to be drier. </div></div>, <div class=\"list_text\"><div class=\"list_date\">January 30, 2023</div><div class=\"content_title\"><a href=\"/news/9337/nasas-perseverance-rover-completes-mars-sample-depot/\" target=\"_self\">NASA's Perseverance Rover Completes Mars Sample Depot</a></div><div class=\"article_teaser_body\">Ten sample tubes, capturing an amazing variety of Martian geology, have been deposited on Mars’ surface so they could be studied on Earth in the future.</div></div>, <div class=\"list_text\"><div class=\"list_date\">December 22, 2022</div><div class=\"content_title\"><a href=\"/news/9326/nasa-explores-a-winter-wonderland-on-mars/\" target=\"_self\">NASA Explores a Winter Wonderland on Mars</a></div><div class=\"article_teaser_body\">Cube-shaped snow, icy landscapes, and frost are all part of the Red Planet’s coldest season.</div></div>, <div class=\"list_text\"><div class=\"list_date\">December 21, 2022</div><div class=\"content_title\"><a href=\"/news/9323/nasas-perseverance-rover-deposits-first-sample-on-mars-surface/\" target=\"_self\">NASA's Perseverance Rover Deposits First Sample on Mars Surface </a></div><div class=\"article_teaser_body\">Filled with rock, the sample tube will be one of 10 forming a depot of tubes that could be considered for a journey to Earth by the Mars Sample Return campaign.</div></div>, <div class=\"list_text\"><div class=\"list_date\">December 21, 2022</div><div class=\"content_title\"><a href=\"/news/9321/nasa-retires-insight-mars-lander-mission-after-years-of-science/\" target=\"_self\">NASA Retires InSight Mars Lander Mission After Years of Science</a></div><div class=\"article_teaser_body\">The mission has concluded that the solar-powered lander has run out of energy after more than four years on the Red Planet.</div></div>, <div class=\"list_text\"><div class=\"list_date\">December 16, 2022</div><div class=\"content_title\"><a href=\"/news/9319/nasas-perseverance-rover-to-begin-building-martian-sample-depot/\" target=\"_self\">NASA's Perseverance Rover to Begin Building Martian Sample Depot</a></div><div class=\"article_teaser_body\">The 10 sample tubes being dropped on Mars’ surface so they can be studied on Earth in the future carry an amazing diversity of Red Planet geology.</div></div>, <div class=\"list_text\"><div class=\"list_date\">December  7, 2022</div><div class=\"content_title\"><a href=\"/news/9311/nasas-perseverance-rover-gets-the-dirt-on-mars/\" target=\"_self\">NASA's Perseverance Rover Gets the Dirt on Mars</a></div><div class=\"article_teaser_body\">The mission’s first two samples of regolith – broken rock and dust – could help scientists better understand the Red Planet and engineers prepare for future missions there.</div></div>, <div class=\"list_text\"><div class=\"list_date\">November 17, 2022</div><div class=\"content_title\"><a href=\"/news/9304/nasas-perseverance-rover-investigates-intriguing-martian-bedrock/\" target=\"_self\">NASA's Perseverance Rover Investigates Intriguing Martian Bedrock</a></div><div class=\"article_teaser_body\">Exploring a sediment-rich location in this Mars delta offers tantalizing opportunities for the six-wheeler’s science team.</div></div>, <div class=\"list_text\"><div class=\"list_date\">November  9, 2022</div><div class=\"content_title\"><a href=\"/news/9299/nasas-maven-observes-martian-light-show-caused-by-major-solar-storm/\" target=\"_self\">NASA's MAVEN Observes Martian Light Show Caused by Major Solar Storm</a></div><div class=\"article_teaser_body\">For the first time in its eight years orbiting Mars, NASA’s MAVEN mission witnessed two different types of ultraviolet aurorae simultaneously, the result of solar storms that began on Aug. 27.</div></div>, <div class=\"list_text\"><div class=\"list_date\">November  1, 2022</div><div class=\"content_title\"><a href=\"/news/9292/nasa-prepares-to-say-farewell-to-insight-spacecraft/\" target=\"_self\">NASA Prepares to Say 'Farewell' to InSight Spacecraft</a></div><div class=\"article_teaser_body\">A closer look at what goes into wrapping up the mission as the spacecraft’s power supply continues to dwindle.</div></div>, <div class=\"list_text\"><div class=\"list_date\">October 28, 2022</div><div class=\"content_title\"><a href=\"/news/9286/nasa-and-esa-agree-on-next-steps-to-return-mars-samples-to-earth/\" target=\"_self\">NASA and ESA Agree on Next Steps to Return Mars Samples to Earth</a></div><div class=\"article_teaser_body\">The agency’s Perseverance rover will establish the first sample depot on Mars.</div></div>, <div class=\"list_text\"><div class=\"list_date\">October 27, 2022</div><div class=\"content_title\"><a href=\"/news/9289/nasas-insight-lander-detects-stunning-meteoroid-impact-on-mars/\" target=\"_self\">NASA's InSight Lander Detects Stunning Meteoroid Impact on Mars</a></div><div class=\"article_teaser_body\">The agency’s lander felt the ground shake during the impact while cameras aboard the Mars Reconnaissance Orbiter spotted the yawning new crater from space.</div></div>, <div class=\"list_text\"><div class=\"list_date\">October 21, 2022</div><div class=\"content_title\"><a href=\"/news/9284/nasa-to-host-briefing-on-insight-mars-reconnaissance-orbiter-findings/\" target=\"_self\">NASA To Host Briefing on InSight, Mars Reconnaissance Orbiter Findings</a></div><div class=\"article_teaser_body\">Scientists from two Mars missions will discuss how they combined images and data for a major finding on the Red Planet.</div></div>]\n"
     ]
    }
   ],
   "source": [
    "# Extract all the text elements\n",
    "elements=soup.find_all('div',class_='list_text')\n",
    "print(elements)\n",
    "\n"
   ]
  },
  {
   "cell_type": "code",
   "execution_count": null,
   "metadata": {},
   "outputs": [],
   "source": []
  },
  {
   "attachments": {},
   "cell_type": "markdown",
   "metadata": {},
   "source": [
    "### Step 3: Store the Results\n",
    "\n",
    "Extract the titles and preview text of the news articles that you scraped. Store the scraping results in Python data structures as follows:\n",
    "\n",
    "* Store each title-and-preview pair in a Python dictionary. And, give each dictionary two keys: `title` and `preview`. An example is the following:\n",
    "\n",
    "  ```python\n",
    "  {'title': \"NASA's MAVEN Observes Martian Light Show Caused by Major Solar Storm\", \n",
    "   'preview': \"For the first time in its eight years orbiting Mars, NASA’s MAVEN mission witnessed two different types of ultraviolet aurorae simultaneously, the result of solar storms that began on Aug. 27.\"\n",
    "  }\n",
    "  ```\n",
    "\n",
    "* Store all the dictionaries in a Python list.\n",
    "\n",
    "* Print the list in your notebook."
   ]
  },
  {
   "cell_type": "code",
   "execution_count": null,
   "metadata": {},
   "outputs": [],
   "source": []
  },
  {
   "cell_type": "code",
   "execution_count": 6,
   "metadata": {},
   "outputs": [],
   "source": [
    "# Create an empty list to store the dictionaries\n",
    "empty_list = []\n"
   ]
  },
  {
   "cell_type": "code",
   "execution_count": 7,
   "metadata": {},
   "outputs": [],
   "source": [
    "# Loop through the text elements\n",
    "# Extract the title and preview text from the elements\n",
    "# Store each title and preview pair in a dictionary\n",
    "# Add the dictionary to the list\n",
    "for element in elements:\n",
    "    title=element.find('div',class_ = 'content_title')\n",
    "    preview=element.find('div',class_ = 'article_teaser_body')\n",
    "    element_list = {}\n",
    "    element_list[\"title\"] = title\n",
    "    element_list[\"preview\"] = preview\n",
    "    empty_list.append(element_list)\n",
    "\n"
   ]
  },
  {
   "cell_type": "code",
   "execution_count": 11,
   "metadata": {},
   "outputs": [
    {
     "name": "stdout",
     "output_type": "stream",
     "text": [
      "[{'title': <div class=\"content_title\"><a href=\"/news/9460/watch-nasa-engineers-put-a-mars-landers-legs-to-the-test/\" target=\"_self\">Watch NASA Engineers Put a Mars Lander's Legs to the Test</a></div>, 'preview': <div class=\"article_teaser_body\">Sturdy legs are needed to absorb the impact of the heaviest spacecraft to ever touch down on the Red Planet.</div>}, {'title': <div class=\"content_title\"><a href=\"/news/9459/cracks-in-ancient-martian-mud-surprise-nasas-curiosity-rover-team/\" target=\"_self\">Cracks in Ancient Martian Mud Surprise NASA's Curiosity Rover Team</a></div>, 'preview': <div class=\"article_teaser_body\">A new paper suggests the same conditions that created the cracks could have been favorable to the emergence of microscopic life.</div>}, {'title': <div class=\"content_title\"><a href=\"/news/9457/nasas-ingenuity-mars-helicopter-flies-again-after-unscheduled-landing/\" target=\"_self\">NASA's Ingenuity Mars Helicopter Flies Again After Unscheduled Landing</a></div>, 'preview': <div class=\"article_teaser_body\">The helicopter performed a short hop to help the team better understand why its previous flight was interrupted.</div>}, {'title': <div class=\"content_title\"><a href=\"/news/9452/nasa-insight-study-finds-mars-is-spinning-faster/\" target=\"_self\">NASA InSight Study Finds Mars Is Spinning Faster</a></div>, 'preview': <div class=\"article_teaser_body\">Data sent by the spacecraft before it retired last December has provided new details about how fast the planet fast rotates and how much it wobbles.</div>}, {'title': <div class=\"content_title\"><a href=\"/news/9454/nasas-curiosity-rover-faces-its-toughest-climb-yet-on-mars/\" target=\"_self\">NASA's Curiosity Rover Faces Its Toughest Climb Yet on Mars</a></div>, 'preview': <div class=\"article_teaser_body\">Shortly before the rover’s 11th anniversary on the Red Planet, its team helped guide it up a steep, slippery slope to examine meteor craters.</div>}, {'title': <div class=\"content_title\"><a href=\"/news/9448/nasa-mars-ascent-vehicle-continues-progress-toward-mars-sample-return/\" target=\"_self\">NASA Mars Ascent Vehicle Continues Progress Toward Mars Sample Return</a></div>, 'preview': <div class=\"article_teaser_body\">The first rocket launch from the surface of another planet will be accomplished using two solid rocket motors.</div>}, {'title': <div class=\"content_title\"><a href=\"/news/9442/nasas-perseverance-rover-sees-mars-in-a-new-light/\" target=\"_self\">NASA's Perseverance Rover Sees Mars in a New Light</a></div>, 'preview': <div class=\"article_teaser_body\">A cutting-edge instrument called SHERLOC, which hunts for molecules potentially related to ancient life, played a key role in a recent study.</div>}, {'title': <div class=\"content_title\"><a href=\"/news/9441/ancient-river-is-helping-nasas-perseverance-mars-rover-do-its-work/\" target=\"_self\">Ancient River Is Helping NASA's Perseverance Mars Rover Do Its Work</a></div>, 'preview': <div class=\"article_teaser_body\">The six-wheeled geologist is getting some assistance in its in search for diverse rock samples that could be brought to Earth for deeper investigation.</div>}, {'title': <div class=\"content_title\"><a href=\"/news/9430/nasas-ingenuity-mars-helicopter-phones-home/\" target=\"_self\">NASA's Ingenuity Mars Helicopter Phones Home</a></div>, 'preview': <div class=\"article_teaser_body\">The intrepid rotorcraft may head skyward again within the week.</div>}, {'title': <div class=\"content_title\"><a href=\"/news/9423/nasas-maven-spacecraft-stuns-with-ultraviolet-views-of-red-planet/\" target=\"_self\">NASA's MAVEN Spacecraft Stuns with Ultraviolet Views of Red Planet</a></div>, 'preview': <div class=\"article_teaser_body\">NASA’s MAVEN (Mars Atmosphere and Volatile EvolutioN) mission acquired stunning views of Mars in two ultraviolet images taken at different points along our neighboring planet’s orbit around the Sun.\n",
      "\n",
      "</div>}, {'title': <div class=\"content_title\"><a href=\"/news/9421/landing-in-living-rooms-lego-models-of-nasa-mars-rover-and-helicopter/\" target=\"_self\">Landing in Living Rooms: LEGO Models of NASA Mars Rover and Helicopter</a></div>, 'preview': <div class=\"article_teaser_body\">A new STEM-themed kit developed in cooperation with NASA-JPL is designed to spark kids’ interest in engineering and space via traditional toys and augmented reality.</div>}, {'title': <div class=\"content_title\"><a href=\"/news/9415/nasas-curiosity-captures-martian-morning-afternoon-in-new-postcard/\" target=\"_self\">NASA's Curiosity Captures Martian Morning, Afternoon in New 'Postcard'</a></div>, 'preview': <div class=\"article_teaser_body\">Lighting from two times of day was combined for a stunning view of terrain that the rover is leaving behind.</div>}, {'title': <div class=\"content_title\"><a href=\"/news/9413/why-and-how-nasa-gives-a-name-to-every-spot-it-studies-on-mars/\" target=\"_self\">Why – and How – NASA Gives a Name to Every Spot It Studies on Mars</a></div>, 'preview': <div class=\"article_teaser_body\">Martian maps are full of monikers recognizing places on Earth, explorers, and even cartoon characters. </div>}, {'title': <div class=\"content_title\"><a href=\"/news/9405/nasas-perseverance-rover-captures-view-of-mars-belva-crater/\" target=\"_self\">NASA's Perseverance Rover Captures View of Mars' Belva Crater</a></div>, 'preview': <div class=\"article_teaser_body\">The six-wheeled scientist encountered the crater during its latest science campaign in search of rock samples that could be brought to Earth for deeper investigation.</div>}, {'title': <div class=\"content_title\"><a href=\"/news/9399/images-from-nasas-perseverance-may-show-record-of-wild-martian-river/\" target=\"_self\">Images From NASA's Perseverance May Show Record of Wild Martian River</a></div>, 'preview': <div class=\"article_teaser_body\">Evidence left in rocks is leading scientists to rethink what watery environments looked like on ancient Mars.</div>}, {'title': <div class=\"content_title\"><a href=\"/news/9390/nasa-retires-mineral-mapping-instrument-on-mars-orbiter/\" target=\"_self\">NASA Retires Mineral Mapping Instrument on Mars Orbiter</a></div>, 'preview': <div class=\"article_teaser_body\">One of six instruments aboard the agency’s Mars Reconnaissance Orbiter, CRISM produced global maps of minerals on the Red Planet’s surface.</div>}, {'title': <div class=\"content_title\"><a href=\"/news/9387/nasa-insight-study-provides-clearest-look-ever-at-martian-core/\" target=\"_self\">NASA InSight Study Provides Clearest Look Ever at Martian Core</a></div>, 'preview': <div class=\"article_teaser_body\">A pair of quakes in 2021 sent seismic waves deep into the Red Planet’s core, giving scientists the best data yet on its size and composition. </div>}, {'title': <div class=\"content_title\"><a href=\"/news/9384/nasa-selects-10-scientists-for-international-mission-to-martian-moons/\" target=\"_self\">NASA Selects 10 Scientists for International Mission to Martian Moons </a></div>, 'preview': <div class=\"article_teaser_body\">JPL’s Abigail Fraeman will help study the composition of Phobos and Deimos using instruments on the Japan Aerospace Exploration Agency’s spacecraft.\n",
      "\n",
      "</div>}, {'title': <div class=\"content_title\"><a href=\"/news/9381/nasas-ingenuity-mars-helicopter-completes-50th-flight/\" target=\"_self\">NASA's Ingenuity Mars Helicopter Completes 50th Flight</a></div>, 'preview': <div class=\"article_teaser_body\">The history-making rotorcraft has recently been negotiating some of the most hazardous terrain it’s encountered on the Red Planet. </div>}, {'title': <div class=\"content_title\"><a href=\"/news/9378/nasas-curiosity-mars-rover-gets-a-major-software-upgrade/\" target=\"_self\">NASA's Curiosity Mars Rover Gets a Major Software Upgrade</a></div>, 'preview': <div class=\"article_teaser_body\">The update brings loads of improvements, the most significant being new driving capabilities.\n",
      "</div>}, {'title': <div class=\"content_title\"><a href=\"/news/9377/nasa-to-convene-mars-sample-return-review/\" target=\"_self\">NASA to Convene Mars Sample Return Review</a></div>, 'preview': <div class=\"article_teaser_body\">The board, initiated by NASA, will provide added confidence that the program won’t exceed guidelines following an important upcoming milestone. </div>}, {'title': <div class=\"content_title\"><a href=\"/news/9375/new-interactive-mosaic-uses-nasa-imagery-to-show-mars-in-vivid-detail/\" target=\"_self\">New Interactive Mosaic Uses NASA Imagery to Show Mars in Vivid Detail</a></div>, 'preview': <div class=\"article_teaser_body\">Both scientists and the public can navigate a new global image of the Red Planet that was made at Caltech using data from NASA’s Mars Reconnaissance Orbiter.</div>}, {'title': <div class=\"content_title\"><a href=\"/news/9373/nasas-perseverance-collects-first-mars-sample-of-new-science-campaign/\" target=\"_self\">NASA's Perseverance Collects First Mars Sample of New Science Campaign</a></div>, 'preview': <div class=\"article_teaser_body\">The rover continues its hunt for rocks worthy of bringing to Earth for further study.</div>}, {'title': <div class=\"content_title\"><a href=\"/news/9365/engineers-keep-an-eye-on-fuel-supply-of-nasas-oldest-mars-orbiter/\" target=\"_self\">Engineers Keep an Eye on Fuel Supply of NASA's Oldest Mars Orbiter</a></div>, 'preview': <div class=\"article_teaser_body\">Measuring the fuel supply on a decades-old spacecraft without a fuel gauge is no easy task. </div>}, {'title': <div class=\"content_title\"><a href=\"/news/9358/nasas-curiosity-views-first-sun-rays-on-mars/\" target=\"_self\">NASA's Curiosity Views First 'Sun Rays' on Mars</a></div>, 'preview': <div class=\"article_teaser_body\">The veteran rover captured a dazzling sunset at the start of a new cloud-imaging campaign.</div>}, {'title': <div class=\"content_title\"><a href=\"/news/9349/nasas-perseverance-rover-set-to-begin-third-year-at-jezero-crater/\" target=\"_self\">NASA's Perseverance Rover Set to Begin Third Year at Jezero Crater</a></div>, 'preview': <div class=\"article_teaser_body\">After completing the first sample depot on another world, the rover continues its hunt for Mars rocks worthy of study on Earth.</div>}, {'title': <div class=\"content_title\"><a href=\"/news/9348/nasas-perseverance-rover-shows-off-collection-of-mars-samples/\" target=\"_self\">NASA's Perseverance Rover Shows Off Collection of Mars Samples</a></div>, 'preview': <div class=\"article_teaser_body\">The Red Planet rover snapped a portrait of the sample depot it has assembled with 10 backup sample tubes that could be returned to Earth by a future mission.</div>}, {'title': <div class=\"content_title\"><a href=\"/news/9344/nasas-curiosity-finds-surprise-clues-to-mars-watery-past/\" target=\"_self\">NASA's Curiosity Finds Surprise Clues to Mars' Watery Past</a></div>, 'preview': <div class=\"article_teaser_body\">Among other discoveries made by the rover, rippled rock textures suggest lakes existed in a region of ancient Mars that scientists expected to be drier. </div>}, {'title': <div class=\"content_title\"><a href=\"/news/9337/nasas-perseverance-rover-completes-mars-sample-depot/\" target=\"_self\">NASA's Perseverance Rover Completes Mars Sample Depot</a></div>, 'preview': <div class=\"article_teaser_body\">Ten sample tubes, capturing an amazing variety of Martian geology, have been deposited on Mars’ surface so they could be studied on Earth in the future.</div>}, {'title': <div class=\"content_title\"><a href=\"/news/9326/nasa-explores-a-winter-wonderland-on-mars/\" target=\"_self\">NASA Explores a Winter Wonderland on Mars</a></div>, 'preview': <div class=\"article_teaser_body\">Cube-shaped snow, icy landscapes, and frost are all part of the Red Planet’s coldest season.</div>}, {'title': <div class=\"content_title\"><a href=\"/news/9323/nasas-perseverance-rover-deposits-first-sample-on-mars-surface/\" target=\"_self\">NASA's Perseverance Rover Deposits First Sample on Mars Surface </a></div>, 'preview': <div class=\"article_teaser_body\">Filled with rock, the sample tube will be one of 10 forming a depot of tubes that could be considered for a journey to Earth by the Mars Sample Return campaign.</div>}, {'title': <div class=\"content_title\"><a href=\"/news/9321/nasa-retires-insight-mars-lander-mission-after-years-of-science/\" target=\"_self\">NASA Retires InSight Mars Lander Mission After Years of Science</a></div>, 'preview': <div class=\"article_teaser_body\">The mission has concluded that the solar-powered lander has run out of energy after more than four years on the Red Planet.</div>}, {'title': <div class=\"content_title\"><a href=\"/news/9319/nasas-perseverance-rover-to-begin-building-martian-sample-depot/\" target=\"_self\">NASA's Perseverance Rover to Begin Building Martian Sample Depot</a></div>, 'preview': <div class=\"article_teaser_body\">The 10 sample tubes being dropped on Mars’ surface so they can be studied on Earth in the future carry an amazing diversity of Red Planet geology.</div>}, {'title': <div class=\"content_title\"><a href=\"/news/9311/nasas-perseverance-rover-gets-the-dirt-on-mars/\" target=\"_self\">NASA's Perseverance Rover Gets the Dirt on Mars</a></div>, 'preview': <div class=\"article_teaser_body\">The mission’s first two samples of regolith – broken rock and dust – could help scientists better understand the Red Planet and engineers prepare for future missions there.</div>}, {'title': <div class=\"content_title\"><a href=\"/news/9304/nasas-perseverance-rover-investigates-intriguing-martian-bedrock/\" target=\"_self\">NASA's Perseverance Rover Investigates Intriguing Martian Bedrock</a></div>, 'preview': <div class=\"article_teaser_body\">Exploring a sediment-rich location in this Mars delta offers tantalizing opportunities for the six-wheeler’s science team.</div>}, {'title': <div class=\"content_title\"><a href=\"/news/9299/nasas-maven-observes-martian-light-show-caused-by-major-solar-storm/\" target=\"_self\">NASA's MAVEN Observes Martian Light Show Caused by Major Solar Storm</a></div>, 'preview': <div class=\"article_teaser_body\">For the first time in its eight years orbiting Mars, NASA’s MAVEN mission witnessed two different types of ultraviolet aurorae simultaneously, the result of solar storms that began on Aug. 27.</div>}, {'title': <div class=\"content_title\"><a href=\"/news/9292/nasa-prepares-to-say-farewell-to-insight-spacecraft/\" target=\"_self\">NASA Prepares to Say 'Farewell' to InSight Spacecraft</a></div>, 'preview': <div class=\"article_teaser_body\">A closer look at what goes into wrapping up the mission as the spacecraft’s power supply continues to dwindle.</div>}, {'title': <div class=\"content_title\"><a href=\"/news/9286/nasa-and-esa-agree-on-next-steps-to-return-mars-samples-to-earth/\" target=\"_self\">NASA and ESA Agree on Next Steps to Return Mars Samples to Earth</a></div>, 'preview': <div class=\"article_teaser_body\">The agency’s Perseverance rover will establish the first sample depot on Mars.</div>}, {'title': <div class=\"content_title\"><a href=\"/news/9289/nasas-insight-lander-detects-stunning-meteoroid-impact-on-mars/\" target=\"_self\">NASA's InSight Lander Detects Stunning Meteoroid Impact on Mars</a></div>, 'preview': <div class=\"article_teaser_body\">The agency’s lander felt the ground shake during the impact while cameras aboard the Mars Reconnaissance Orbiter spotted the yawning new crater from space.</div>}, {'title': <div class=\"content_title\"><a href=\"/news/9284/nasa-to-host-briefing-on-insight-mars-reconnaissance-orbiter-findings/\" target=\"_self\">NASA To Host Briefing on InSight, Mars Reconnaissance Orbiter Findings</a></div>, 'preview': <div class=\"article_teaser_body\">Scientists from two Mars missions will discuss how they combined images and data for a major finding on the Red Planet.</div>}]\n"
     ]
    }
   ],
   "source": [
    "# Print the list to confirm success\n",
    "# Print the list of article dict\n",
    "print(empty_list)\n"
   ]
  },
  {
   "cell_type": "code",
   "execution_count": 9,
   "metadata": {},
   "outputs": [],
   "source": [
    "browser.quit()"
   ]
  },
  {
   "cell_type": "code",
   "execution_count": null,
   "metadata": {},
   "outputs": [],
   "source": []
  }
 ],
 "metadata": {
  "kernelspec": {
   "display_name": "Python 3 (ipykernel)",
   "language": "python",
   "name": "python3"
  },
  "language_info": {
   "codemirror_mode": {
    "name": "ipython",
    "version": 3
   },
   "file_extension": ".py",
   "mimetype": "text/x-python",
   "name": "python",
   "nbconvert_exporter": "python",
   "pygments_lexer": "ipython3",
   "version": "3.11.4"
  },
  "vscode": {
   "interpreter": {
    "hash": "31f2aee4e71d21fbe5cf8b01ff0e069b9275f58929596ceb00d14d90e3e16cd6"
   }
  }
 },
 "nbformat": 4,
 "nbformat_minor": 4
}
